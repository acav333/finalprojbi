{
 "cells": [
  {
   "cell_type": "markdown",
   "metadata": {},
   "source": [
    "# Traffic In Pittsburgh"
   ]
  },
  {
   "cell_type": "markdown",
   "metadata": {},
   "source": [
    "### By: Anna Cavanaugh and Liam Sullivan"
   ]
  },
  {
   "cell_type": "markdown",
   "metadata": {},
   "source": [
    "One of the metrics considered for the most aesthetically pleasing neighborhood is the neighborhood with the least amount of traffic. This is because traffic is loud, annoying and just ugly."
   ]
  },
  {
   "cell_type": "code",
   "execution_count": 5,
   "metadata": {},
   "outputs": [],
   "source": [
    "import pandas as pd\n",
    "import numpy as np\n",
    "%matplotlib inline\n",
    "import matplotlib.pyplot as plt"
   ]
  },
  {
   "cell_type": "markdown",
   "metadata": {},
   "source": [
    "First, lets read in our data set."
   ]
  },
  {
   "cell_type": "code",
   "execution_count": 6,
   "metadata": {},
   "outputs": [],
   "source": [
    "traffic = pd.read_csv(\"traffic.csv\")"
   ]
  },
  {
   "cell_type": "markdown",
   "metadata": {},
   "source": [
    "Now, lets find the total number of traffic per neighborhood."
   ]
  },
  {
   "cell_type": "code",
   "execution_count": 7,
   "metadata": {},
   "outputs": [
    {
     "data": {
      "text/plain": [
       "neighborhood\n",
       "Middle Hill                0.0\n",
       "Crawford-Roberts           0.0\n",
       "South Oakland              0.0\n",
       "Banksville                 0.0\n",
       "Upper Lawrenceville        0.0\n",
       "                        ...   \n",
       "Bloomfield             43101.0\n",
       "Mount Washington       47336.0\n",
       "East Liberty           51247.0\n",
       "Shadyside              66132.0\n",
       "Squirrel Hill South    79302.0\n",
       "Name: average_daily_car_traffic, Length: 74, dtype: float64"
      ]
     },
     "execution_count": 7,
     "metadata": {},
     "output_type": "execute_result"
    }
   ],
   "source": [
    "temp = traffic.groupby('neighborhood').sum()['average_daily_car_traffic']\n",
    "temp = temp.sort_values(ascending = True)\n",
    "temp"
   ]
  },
  {
   "cell_type": "markdown",
   "metadata": {},
   "source": [
    "This is a good start, however some of the neighborhoods in the file are missing data, so lets remove all neighborhoods with no data from consideration. "
   ]
  },
  {
   "cell_type": "code",
   "execution_count": 8,
   "metadata": {},
   "outputs": [
    {
     "data": {
      "text/plain": [
       "neighborhood\n",
       "South Side Flats              115.0\n",
       "Lincoln Place                 126.0\n",
       "Lincoln-Lemington-Belmar      195.0\n",
       "Fineview                      419.0\n",
       "Allegheny West                477.0\n",
       "                             ...   \n",
       "Bloomfield                  43101.0\n",
       "Mount Washington            47336.0\n",
       "East Liberty                51247.0\n",
       "Shadyside                   66132.0\n",
       "Squirrel Hill South         79302.0\n",
       "Name: average_daily_car_traffic, Length: 64, dtype: float64"
      ]
     },
     "execution_count": 8,
     "metadata": {},
     "output_type": "execute_result"
    }
   ],
   "source": [
    "query = traffic['average_daily_car_traffic']>0\n",
    "traffic = traffic[query]\n",
    "temp = traffic.groupby('neighborhood').sum()['average_daily_car_traffic']\n",
    "temp = temp.sort_values(ascending = True)\n",
    "temp"
   ]
  },
  {
   "cell_type": "markdown",
   "metadata": {},
   "source": [
    "Now that we've removed the neighborhoods that their is no data for, we need to average the number of cars by the number of traffic counters are in that neighborhood."
   ]
  },
  {
   "cell_type": "code",
   "execution_count": 9,
   "metadata": {},
   "outputs": [],
   "source": [
    "#sort data alphabetically\n",
    "traffic = traffic.sort_values('neighborhood')\n",
    "temp = traffic.groupby('neighborhood').sum()['average_daily_car_traffic']\n",
    "temp2 = traffic['neighborhood'].value_counts()\n",
    "temp2 =temp2.sort_index()\n",
    "#cdivide the number of cars by the number of counters\n",
    "temp= (temp/temp2).round()"
   ]
  },
  {
   "cell_type": "code",
   "execution_count": 10,
   "metadata": {},
   "outputs": [],
   "source": [
    "temp= (temp/temp2).round()"
   ]
  },
  {
   "cell_type": "code",
   "execution_count": 11,
   "metadata": {},
   "outputs": [
    {
     "data": {
      "text/plain": [
       "neighborhood\n",
       "Highland Park                 104.0\n",
       "South Side Flats              115.0\n",
       "Squirrel Hill South           117.0\n",
       "Lincoln Place                 126.0\n",
       "Lincoln-Lemington-Belmar      195.0\n",
       "                             ...   \n",
       "East Hills                   4063.0\n",
       "Duquesne Heights             5831.0\n",
       "North Shore                 10350.0\n",
       "Crafton Heights             11500.0\n",
       "Regent Square               16729.0\n",
       "Length: 64, dtype: float64"
      ]
     },
     "execution_count": 11,
     "metadata": {},
     "output_type": "execute_result"
    }
   ],
   "source": [
    "temp.sort_values()"
   ]
  },
  {
   "cell_type": "markdown",
   "metadata": {},
   "source": [
    "This is much better. Now we have data that represents the average number of cars per counter in each neighborhood, excluding those neighborhoods with no data."
   ]
  },
  {
   "cell_type": "code",
   "execution_count": 15,
   "metadata": {},
   "outputs": [
    {
     "data": {
      "text/plain": [
       "<matplotlib.axes._subplots.AxesSubplot at 0x7f23861a0af0>"
      ]
     },
     "execution_count": 15,
     "metadata": {},
     "output_type": "execute_result"
    },
    {
     "data": {
      "image/png": "[encoded data removed]",
      "text/plain": [
       "<Figure size 432x288 with 1 Axes>"
      ]
     },
     "metadata": {
      "needs_background": "light"
     },
     "output_type": "display_data"
    }
   ],
   "source": [
    "high = temp.head(5)\n",
    "high.plot.bar(x = temp[0], y = temp[1])"
   ]
  },
  {
   "cell_type": "code",
   "execution_count": null,
   "metadata": {},
   "outputs": [],
   "source": []
  }
 ],
 "metadata": {
  "kernelspec": {
   "display_name": "Python 3",
   "language": "python",
   "name": "python3"
  },
  "language_info": {
   "codemirror_mode": {
    "name": "ipython",
    "version": 3
   },
   "file_extension": ".py",
   "mimetype": "text/x-python",
   "name": "python",
   "nbconvert_exporter": "python",
   "pygments_lexer": "ipython3",
   "version": "3.8.3"
  }
 },
 "nbformat": 4,
 "nbformat_minor": 4
}
